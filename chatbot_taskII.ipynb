{
 "cells": [
  {
   "cell_type": "code",
   "execution_count": 1,
   "id": "d2badec7-97ac-4aed-b613-4252be5177f4",
   "metadata": {},
   "outputs": [],
   "source": [
    "import numpy as np\n",
    "import pandas as pd\n",
    "from flask import Flask"
   ]
  },
  {
   "cell_type": "markdown",
   "id": "685db2a2-bb2f-404e-bbfa-ca907a41e95b",
   "metadata": {},
   "source": [
    "Launch a Chatbot"
   ]
  },
  {
   "cell_type": "code",
   "execution_count": 2,
   "id": "8e8c4152-228a-4fb8-9c6c-6de15cbe53e6",
   "metadata": {},
   "outputs": [],
   "source": [
    "def financial_chatbot(user_query):\n",
    "    responses = {\n",
    "        \"What is the total revenue trend over the years?\":\n",
    "            \"The total revenue has shown a general upward trend over the years for Apple, Microsoft, and Tesla.\",\n",
    "        \n",
    "        \"How has the net income changed over the last year?\":\n",
    "            \"The net income has shown year-over-year changes, with each company experiencing varying growth rates. For example, Apple had a noticeable increase in net income last year.\",\n",
    "        \n",
    "        \"What is the revenue growth percentage?\":\n",
    "            \"Revenue growth percentage varies by company and year. For instance, Tesla showed a sharp increase in revenue growth during its high expansion phase, while Microsoft and Apple showed stable growth rates.\",\n",
    "        \n",
    "        \"How are the total assets distributed among companies?\":\n",
    "            \"In the most recent year, Apple and Microsoft had the highest share of total assets, while Tesla had a smaller portion, as seen in the pie chart.\",\n",
    "        \n",
    "        \"What does the cash flow distribution look like?\":\n",
    "            \"The distribution of cash flow from operating activities varies significantly across the three companies. Apple and Microsoft showed more consistent patterns, while Tesla had more variation, as illustrated in the violin plot.\"\n",
    "    }\n",
    "\n",
    "    return responses.get(user_query, \"Sorry, I can only provide information on predefined queries.\")\n"
   ]
  },
  {
   "cell_type": "markdown",
   "id": "19109251-1b29-4243-b8c1-89479b46102a",
   "metadata": {},
   "source": [
    "Test The Chatbot"
   ]
  },
  {
   "cell_type": "code",
   "execution_count": null,
   "id": "7ce6c9a7-6dd1-43e7-b6d9-25e873e1b58d",
   "metadata": {},
   "outputs": [
    {
     "name": "stdin",
     "output_type": "stream",
     "text": [
      "You:  What is the total revenue trend over the years?\n"
     ]
    },
    {
     "name": "stdout",
     "output_type": "stream",
     "text": [
      "Chatbot: The total revenue has shown a general upward trend over the years for Apple, Microsoft, and Tesla.\n"
     ]
    },
    {
     "name": "stdin",
     "output_type": "stream",
     "text": [
      "You:  How are the total assets distributed among companies?\n"
     ]
    },
    {
     "name": "stdout",
     "output_type": "stream",
     "text": [
      "Chatbot: In the most recent year, Apple and Microsoft had the highest share of total assets, while Tesla had a smaller portion, as seen in the pie chart.\n"
     ]
    },
    {
     "name": "stdin",
     "output_type": "stream",
     "text": [
      "You:  How revenue changed for Apple\n"
     ]
    },
    {
     "name": "stdout",
     "output_type": "stream",
     "text": [
      "Chatbot: Sorry, I can only provide information on predefined queries.\n"
     ]
    }
   ],
   "source": [
    "while True:\n",
    "    query = input(\"You: \")\n",
    "    if query.lower() == \"exit\":\n",
    "        print(\"Chatbot: Goodbye!\")\n",
    "        break\n",
    "    response = financial_chatbot(query)\n",
    "    print(\"Chatbot:\", response)\n"
   ]
  },
  {
   "cell_type": "code",
   "execution_count": null,
   "id": "1647c5f7-ba9a-4467-803d-d415365d8097",
   "metadata": {},
   "outputs": [],
   "source": [
    "\n",
    "\n",
    "📄 Chatbot Summary\n",
    "\n",
    "This is a basic financial chatbot made using Python. It is designed to answer a few specific questions related to company financials, based on the data analyzed earlier.\n",
    "\n",
    "The chatbot works by checking if the user’s question matches one of the predefined queries. \n",
    "If it does, it gives a fixed answer that was prepared in advance using the financial analysis. \n",
    "If the question is not in the list, it shows a message saying it can't help with that.\n",
    "\n",
    "✅ The chatbot can answer these questions:\n",
    "\n",
    "1. What is the total revenue trend over the years?\n",
    "2. How has the net income changed over the last year?\n",
    "3. What is the revenue growth percentage?\n",
    "4. How are the total assets distributed among companies?\n",
    "5. What does the cash flow distribution look like?\n",
    "\n",
    " ⚠️ Limitations:\n",
    "\n",
    "* It can only reply to the questions listed above.\n",
    "* It doesn’t understand other types of questions or general conversation.\n",
    "* It cannot fetch real-time data or update answers automatically."
   ]
  }
 ],
 "metadata": {
  "kernelspec": {
   "display_name": "Python 3 (ipykernel)",
   "language": "python",
   "name": "python3"
  },
  "language_info": {
   "codemirror_mode": {
    "name": "ipython",
    "version": 3
   },
   "file_extension": ".py",
   "mimetype": "text/x-python",
   "name": "python",
   "nbconvert_exporter": "python",
   "pygments_lexer": "ipython3",
   "version": "3.13.3"
  }
 },
 "nbformat": 4,
 "nbformat_minor": 5
}
